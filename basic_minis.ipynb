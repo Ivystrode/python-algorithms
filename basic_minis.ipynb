{
 "metadata": {
  "language_info": {
   "codemirror_mode": {
    "name": "ipython",
    "version": 3
   },
   "file_extension": ".py",
   "mimetype": "text/x-python",
   "name": "python",
   "nbconvert_exporter": "python",
   "pygments_lexer": "ipython3",
   "version": "3.8.1-final"
  },
  "orig_nbformat": 2,
  "kernelspec": {
   "name": "python_defaultSpec_1597680423250",
   "display_name": "Python 3.8.1 32-bit"
  }
 },
 "nbformat": 4,
 "nbformat_minor": 2,
 "cells": [
  {
   "cell_type": "code",
   "execution_count": 3,
   "metadata": {},
   "outputs": [],
   "source": [
    "def array_diff(a, b):\n",
    "    \"\"\"Returns the letters that are in array a but not b\"\"\"\n",
    "    c = [n for n in a if n not in b]\n",
    "    return c"
   ]
  },
  {
   "cell_type": "code",
   "execution_count": 4,
   "metadata": {},
   "outputs": [
    {
     "output_type": "execute_result",
     "data": {
      "text/plain": "[2, 3]"
     },
     "metadata": {},
     "execution_count": 4
    }
   ],
   "source": [
    "array_diff([1,2,3],[1,4,5])\n"
   ]
  },
  {
   "cell_type": "code",
   "execution_count": 5,
   "metadata": {},
   "outputs": [],
   "source": [
    "letters = ['a','b','c','d']\n",
    "letters2 = ['c','d','e','f','g']\n"
   ]
  },
  {
   "cell_type": "code",
   "execution_count": 6,
   "metadata": {},
   "outputs": [
    {
     "output_type": "execute_result",
     "data": {
      "text/plain": "['a', 'b']"
     },
     "metadata": {},
     "execution_count": 6
    }
   ],
   "source": [
    "array_diff(letters, letters2)"
   ]
  },
  {
   "cell_type": "code",
   "execution_count": 8,
   "metadata": {},
   "outputs": [
    {
     "output_type": "execute_result",
     "data": {
      "text/plain": "[1, 3]"
     },
     "metadata": {},
     "execution_count": 8
    }
   ],
   "source": [
    "array_diff([1,2,2,2,2,3],[2])"
   ]
  },
  {
   "cell_type": "code",
   "execution_count": 9,
   "metadata": {},
   "outputs": [
    {
     "output_type": "execute_result",
     "data": {
      "text/plain": "[3, -11, 8, -4, -11]"
     },
     "metadata": {},
     "execution_count": 9
    }
   ],
   "source": [
    "array_diff([-1, 16, -18, 3, -11, -1, 8, -4, 2, 12, 2, -11, 5],[-18, 12, -1, -5, -15, 11, -12, 5, 16, 6, -8, -9, -8, -12, 2, 11])"
   ]
  },
  {
   "cell_type": "code",
   "execution_count": 25,
   "metadata": {},
   "outputs": [],
   "source": [
    "arr1 = [1,1,2,3,3,4,4,4,4,5,5,6,6]"
   ]
  },
  {
   "cell_type": "code",
   "execution_count": 27,
   "metadata": {},
   "outputs": [],
   "source": [
    "def find_it(seq):\n",
    "    \"\"\"Returns the number in an array that appears an odd number of times\"\"\"\n",
    "    count = 0\n",
    "    nums = {}\n",
    "    for number in seq:\n",
    "        nums[number] = 0\n",
    "\n",
    "    for number in seq:\n",
    "        if number in nums.keys():\n",
    "            nums[number] += 1\n",
    "    \n",
    "    for key, value in nums.items():\n",
    "        if value % 2 != 0:\n",
    "            result = str(key) + \": \" + str(value)\n",
    "            return result"
   ]
  },
  {
   "cell_type": "code",
   "execution_count": 28,
   "metadata": {},
   "outputs": [
    {
     "output_type": "execute_result",
     "data": {
      "text/plain": "'2: 1'"
     },
     "metadata": {},
     "execution_count": 28
    }
   ],
   "source": [
    "find_it(arr1)"
   ]
  },
  {
   "cell_type": "code",
   "execution_count": 32,
   "metadata": {},
   "outputs": [],
   "source": [
    "def find_it_lite(seq):\n",
    "    return [x for x in seq if seq.count(x) % 2 != 0]"
   ]
  },
  {
   "cell_type": "code",
   "execution_count": 33,
   "metadata": {},
   "outputs": [
    {
     "output_type": "execute_result",
     "data": {
      "text/plain": "[2]"
     },
     "metadata": {},
     "execution_count": 33
    }
   ],
   "source": [
    "find_it_lite(arr1)"
   ]
  },
  {
   "cell_type": "code",
   "execution_count": 34,
   "metadata": {},
   "outputs": [],
   "source": [
    "def find_outlier(integers):\n",
    "    \"\"\"The array contains either all events and one odd, or all odds and one even. Find the 'outlier' and return it\"\"\"\n",
    "    ocount = 0\n",
    "    ecount = 0\n",
    "    evens = False\n",
    "\n",
    "    for x in integers:\n",
    "        if x % 2 == 0:\n",
    "            ecount += 1\n",
    "        else:\n",
    "            ocount += 1\n",
    "    if ocount < ecount:\n",
    "        evens = True\n",
    "\n",
    "    if evens:\n",
    "        return [num for num in integers if num % 2 != 0][0]\n",
    "    else:\n",
    "        return [num for num in integers if num % 2 == 0][0]\n"
   ]
  },
  {
   "cell_type": "code",
   "execution_count": null,
   "metadata": {},
   "outputs": [],
   "source": [
    "def find_outlier_lite(integers):\n",
    "    odds = [x for x in integers if x % 2 != 0]\n",
    "    events = [x for x in integers if x % 2 == 0]\n",
    "    return evens[0] if len(evens) < len(odds) else odds[0]"
   ]
  },
  {
   "cell_type": "code",
   "execution_count": 88,
   "metadata": {},
   "outputs": [],
   "source": [
    "def high_and_low(numbers):\n",
    "    \"\"\"From a string of space separated numbers, return the highest\"\"\"\n",
    "    numlist = [int(num) for num in numbers.split(\" \")]\n",
    "    highest = numlist[0]\n",
    "    lowest = numlist[0]\n",
    "\n",
    "    for n in numlist:\n",
    "        if n > highest:\n",
    "            highest = n\n",
    "        if n < lowest:\n",
    "            lowest = n\n",
    "    return str(highest) + \" \" + str(lowest)"
   ]
  },
  {
   "cell_type": "code",
   "execution_count": 89,
   "metadata": {
    "tags": []
   },
   "outputs": [
    {
     "output_type": "execute_result",
     "data": {
      "text/plain": "'907 -214'"
     },
     "metadata": {},
     "execution_count": 89
    }
   ],
   "source": [
    "high_and_low(\"123 907 104 454 10 4 6 -214\")"
   ]
  },
  {
   "cell_type": "code",
   "execution_count": 94,
   "metadata": {},
   "outputs": [],
   "source": [
    "def high_and_low_lite(numbers):\n",
    "    numlist = [int(num) for num in numbers.split(' ')]\n",
    "    return f\"{max(numlist)} {min(numlist)}\""
   ]
  },
  {
   "cell_type": "code",
   "execution_count": 95,
   "metadata": {},
   "outputs": [
    {
     "output_type": "execute_result",
     "data": {
      "text/plain": "'1087 -453'"
     },
     "metadata": {},
     "execution_count": 95
    }
   ],
   "source": [
    "high_and_low_lite(\"405 444 9 1087 274 -453 1\")"
   ]
  },
  {
   "cell_type": "code",
   "execution_count": 157,
   "metadata": {},
   "outputs": [],
   "source": [
    "def pair_split(s):\n",
    "    \"\"\"splits the string into pairs of two characters. If the string contains an odd number of characters then it should replace the missing second character of the final pair with an                 underscore\"\"\"\n",
    "\n",
    "    result = [s[x:x+2] if x < len(s) - 1 else s[-1] + \"_\" for x in range(0, len(s), 2)]\n",
    "    return result\n"
   ]
  },
  {
   "cell_type": "code",
   "execution_count": 158,
   "metadata": {
    "tags": []
   },
   "outputs": [
    {
     "output_type": "execute_result",
     "data": {
      "text/plain": "['ab', 'df', 'eg', 'h_']"
     },
     "metadata": {},
     "execution_count": 158
    }
   ],
   "source": [
    "pair_split(\"abdfegh\")"
   ]
  },
  {
   "cell_type": "code",
   "execution_count": 182,
   "metadata": {},
   "outputs": [],
   "source": [
    "def validBraces(string):\n",
    "    \"\"\"Determines if all parantheses have been correctly closed\"\"\"\n",
    "    parents = {'(': 'open'}\n",
    "\n",
    "\n",
    "    print(open_states)\n",
    "\n",
    "    for paren, state in open_states.items():\n",
    "        if state == \"open\":\n",
    "            return False\n",
    "\n",
    "    return True\n"
   ]
  },
  {
   "cell_type": "code",
   "execution_count": 183,
   "metadata": {
    "tags": []
   },
   "outputs": [
    {
     "output_type": "stream",
     "name": "stdout",
     "text": "paren open: (\nparen open: {\nparen open: }\nparen open: )\n{('(', ')'): 'open', ('{', '}'): 'open'}\n"
    },
    {
     "output_type": "execute_result",
     "data": {
      "text/plain": "False"
     },
     "metadata": {},
     "execution_count": 183
    }
   ],
   "source": [
    "validBraces(\"({})\")"
   ]
  },
  {
   "cell_type": "code",
   "execution_count": 76,
   "metadata": {},
   "outputs": [],
   "source": [
    "import string\n",
    "def alphabet_positions(text):\n",
    "    \"\"\"This function replaces every letter in a string with its position in the alphabet\"\"\"\n",
    "    # create a dictionary of letter:position_number pairs\n",
    "    # we have to reverse the enumeration hence the v:k for k, v\n",
    "    letter_positions = {v:k for k, v in enumerate(string.ascii_lowercase, 1)}\n",
    "\n",
    "    string_code = \"\"\n",
    "\n",
    "    # Normal for-loop method\n",
    "    # for letter in s:\n",
    "    #     letter = letter.lower()\n",
    "    #     if letter in letter_positions.keys():\n",
    "    #         string_code += str(letter_positions[letter]) + \" \"\n",
    "    # string_code = string_code[:-1] # cuts off the space at the end\n",
    "\n",
    "    # list comprehension method\n",
    "    string_code = [str(letter_positions[letter.lower()]) for letter in text if letter.lower() in letter_positions.keys()]\n",
    "\n",
    "    return \" \".join(string_code)\n",
    "\n"
   ]
  },
  {
   "cell_type": "code",
   "execution_count": 77,
   "metadata": {
    "tags": []
   },
   "outputs": [
    {
     "output_type": "execute_result",
     "data": {
      "text/plain": "'20 8 5 19 21 14 19 5 20 19 5 20 19 1 20 20 23 5 12 22 5 15 3 12 15 3 11'"
     },
     "metadata": {},
     "execution_count": 77
    }
   ],
   "source": [
    "alphabet_positions(\"The sunset sets at twelve o' clock.\")"
   ]
  },
  {
   "cell_type": "code",
   "execution_count": 80,
   "metadata": {},
   "outputs": [],
   "source": [
    "def alphabet_positions_lite(text):\n",
    "    return \" \".join(str(ord(letter)-96) for letter in text.lower() if letter.isalpha())"
   ]
  },
  {
   "cell_type": "code",
   "execution_count": 82,
   "metadata": {},
   "outputs": [
    {
     "output_type": "execute_result",
     "data": {
      "text/plain": "'9 23 5 14 20 8 15 13 5 20 15 7 5 20 13 25 14 15 23 1 25'"
     },
     "metadata": {},
     "execution_count": 82
    }
   ],
   "source": [
    "alphabet_positions_lite(\"I went home to get my ... no way\")"
   ]
  },
  {
   "cell_type": "code",
   "execution_count": 3,
   "metadata": {},
   "outputs": [],
   "source": [
    "def tower_builder(n_floors):\n",
    "    \"\"\"Returns a list where each element is the number of asterisks of the floor number...should appear stacked like a tower\"\"\"\n",
    "    tower = []\n",
    "    spacing = n_floors - 1\n",
    "    stars = 1\n",
    "    for i in range(0, n_floors):\n",
    "        tower.append(\" \" * spacing + \"*\" * stars + spacing * \" \")\n",
    "        stars += 2\n",
    "        spacing -= 1\n",
    "    return tower"
   ]
  },
  {
   "cell_type": "code",
   "execution_count": 4,
   "metadata": {},
   "outputs": [
    {
     "output_type": "execute_result",
     "data": {
      "text/plain": "['   *   ', '  ***  ', ' ***** ', '*******']"
     },
     "metadata": {},
     "execution_count": 4
    }
   ],
   "source": [
    "tower_builder(4)"
   ]
  },
  {
   "cell_type": "code",
   "execution_count": 153,
   "metadata": {},
   "outputs": [],
   "source": [
    "def tower_builder_lite(num_floors):\n",
    "    return [(\"*\" * (i*2-1)).center(num_floors*2-1) for i in range(1, num_floors+1)]"
   ]
  },
  {
   "cell_type": "code",
   "execution_count": 154,
   "metadata": {},
   "outputs": [
    {
     "output_type": "execute_result",
     "data": {
      "text/plain": "['    *    ', '   ***   ', '  *****  ', ' ******* ', '*********']"
     },
     "metadata": {},
     "execution_count": 154
    }
   ],
   "source": [
    "tower_builder_lite(5)"
   ]
  },
  {
   "cell_type": "code",
   "execution_count": 145,
   "metadata": {},
   "outputs": [],
   "source": [
    "def time_convert(num):\n",
    "    \"\"\"Convert an integer representing a number of seconds (1-359999) to human readable timeframe HH:MM:SS\"\"\"\n",
    "    secs = 0\n",
    "    mins = 0\n",
    "    hour = 0\n",
    "    for n in range(1, num+1):\n",
    "        secs += 1\n",
    "        if secs == 60:\n",
    "            secs = 0\n",
    "            mins += 1\n",
    "            if mins == 60:\n",
    "                mins = 0\n",
    "                hour += 1\n",
    "    return f\"{hour:02}:{mins:02}:{secs:02}\"\n"
   ]
  },
  {
   "cell_type": "code",
   "execution_count": 152,
   "metadata": {
    "tags": []
   },
   "outputs": [
    {
     "output_type": "execute_result",
     "data": {
      "text/plain": "'04:00:00'"
     },
     "metadata": {},
     "execution_count": 152
    }
   ],
   "source": [
    "time_convert(14400)"
   ]
  },
  {
   "cell_type": "code",
   "execution_count": 169,
   "metadata": {},
   "outputs": [],
   "source": [
    "def time_convert_lite(num):\n",
    "    return f\"{int(num/3600):02}:{int(num/60%60):02}:{int(num%60):02}\""
   ]
  },
  {
   "cell_type": "code",
   "execution_count": 170,
   "metadata": {
    "tags": []
   },
   "outputs": [
    {
     "output_type": "execute_result",
     "data": {
      "text/plain": "'04:03:08'"
     },
     "metadata": {},
     "execution_count": 170
    }
   ],
   "source": [
    "time_convert_lite(14588)"
   ]
  },
  {
   "cell_type": "code",
   "execution_count": 340,
   "metadata": {},
   "outputs": [],
   "source": [
    "def unique_in_order(iterable):\n",
    "    \"\"\"Takes an iterable and returns all the characters but with adjacent duplicates removed\"\"\"\n",
    "    if iterable == '':\n",
    "        return []\n",
    "    \n",
    "    elif len(iterable)==1 and iterable != '':        \n",
    "        return list(iterable[0])\n",
    "    \n",
    "    elif iterable.count(iterable[0]) == len(iterable):\n",
    "        return list(iterable[0])\n",
    "    \n",
    "    else:        \n",
    "        return [element for i, element in enumerate(iterable) if element != iterable[i-1]]"
   ]
  },
  {
   "cell_type": "code",
   "execution_count": 341,
   "metadata": {
    "tags": []
   },
   "outputs": [
    {
     "output_type": "execute_result",
     "data": {
      "text/plain": "['B', 'A']"
     },
     "metadata": {},
     "execution_count": 341
    }
   ],
   "source": [
    "unique_in_order(\"AAABA\")"
   ]
  },
  {
   "cell_type": "code",
   "execution_count": 343,
   "metadata": {},
   "outputs": [],
   "source": [
    "def unique_in_order_lite(iterable):\n",
    "    return [element for i, element in enumerate(iterable) if i == 0 or element != iterable[i-1]]"
   ]
  },
  {
   "cell_type": "code",
   "execution_count": 344,
   "metadata": {},
   "outputs": [
    {
     "output_type": "execute_result",
     "data": {
      "text/plain": "['A', 'a', 'B', 'b', 'B', 'h', 'b', 'h', 'f', 'g', 'h', 'r', 't', 'h', 'b']"
     },
     "metadata": {},
     "execution_count": 344
    }
   ],
   "source": [
    "unique_in_order_lite(\"AAaBbBBhbhhhffffghrthb\")"
   ]
  },
  {
   "cell_type": "code",
   "execution_count": 346,
   "metadata": {},
   "outputs": [],
   "source": [
    "def unique_in_order_best_practice(iterable):\n",
    "    result = []\n",
    "    prev = None\n",
    "    for char in iterable:\n",
    "        if char != prev:\n",
    "            result.append(char)\n",
    "            prev = char\n",
    "    return result"
   ]
  },
  {
   "cell_type": "code",
   "execution_count": 349,
   "metadata": {},
   "outputs": [
    {
     "output_type": "execute_result",
     "data": {
      "text/plain": "['A', 'a', 'A', 'b', 'B', 'b', 'h', 'f', 'k', 'l', 'i', 'k', 'o', 's']"
     },
     "metadata": {},
     "execution_count": 349
    }
   ],
   "source": [
    "unique_in_order_best_practice(\"AaaAbbbbbBbhhhffkklikos\")"
   ]
  },
  {
   "cell_type": "code",
   "execution_count": 352,
   "metadata": {},
   "outputs": [],
   "source": [
    "import hashlib\n",
    "def pass_hash(str):\n",
    "    \"\"\"Hashes a password\"\"\"\n",
    "    password = hashlib.md5(str.encode())\n",
    "    return password.hexdigest()"
   ]
  },
  {
   "cell_type": "code",
   "execution_count": 354,
   "metadata": {},
   "outputs": [
    {
     "output_type": "execute_result",
     "data": {
      "text/plain": "'e6ebf5751ccbfbc411a2ef301f188b1c'"
     },
     "metadata": {},
     "execution_count": 354
    }
   ],
   "source": [
    "pass_hash(\"test1uiopfgdgrdhtfgdxjhtgfxgdshtfg\")"
   ]
  },
  {
   "cell_type": "code",
   "execution_count": 590,
   "metadata": {},
   "outputs": [],
   "source": [
    "def find_uniq(arr):\n",
    "    \"\"\"Find the unique number in an array of identical numbers (apart from one)\"\"\"\n",
    "    n = set(arr)\n",
    "    for x in n:\n",
    "        if arr.count(x) == 1:\n",
    "            return x"
   ]
  },
  {
   "cell_type": "code",
   "execution_count": 591,
   "metadata": {},
   "outputs": [
    {
     "output_type": "execute_result",
     "data": {
      "text/plain": "2"
     },
     "metadata": {},
     "execution_count": 591
    }
   ],
   "source": [
    "find_uniq([1,1,1,1,1,2,1,1,1,1,1,1,1,1,1])"
   ]
  },
  {
   "cell_type": "code",
   "execution_count": 557,
   "metadata": {},
   "outputs": [],
   "source": [
    "def missing_num_sequence(nums):\n",
    "    \"\"\"Takes a string of numbers in sequence, and returns the missing number\"\"\"\n",
    "    numlist = [int(n) for n in nums]\n",
    "\n",
    "    newlist = []\n",
    "\n",
    "    if (int(numlist[1]) == int(numlist[0]) + 1) and (int(numlist[2]) == int(numlist[1]) + 1):\n",
    "        print(\"single digits\")\n",
    "        newlist = [x for x in numlist]\n",
    "        print(newlist)\n",
    "        result = [n for i, n in enumerate(newlist) if n != newlist[i-1]+1 and i != 0]\n",
    "        if result == []:\n",
    "            return -1\n",
    "        elif len(result) == 1:\n",
    "            return str(int(result[0])-1) + \" is the missing number\"\n",
    "        else:\n",
    "            return -1\n",
    "\n",
    "    \n",
    "    else:\n",
    "        print(\"checking for multi digit nums\")\n",
    "        tdn1 = int(str(numlist[0]) + str(numlist[1]))\n",
    "        tdn2 = int(str(numlist[2]) + str(numlist[3]))\n",
    "        if tdn2 == tdn1 + 1:\n",
    "            print(\"yes it is two digits\")\n",
    "\n",
    "            i = 0\n",
    "            for num in numlist:\n",
    "                try:\n",
    "                    this_num = int(str(numlist[i]) + str(numlist[i+1]))\n",
    "                    print(this_num)\n",
    "                    newlist.append(this_num)\n",
    "                    i += 2\n",
    "                except:\n",
    "                    pass\n",
    "            print(newlist)\n",
    "        result = [n for i, n in enumerate(newlist) if n != newlist[i-1]+1 and i != 0]\n",
    "        if result == []:\n",
    "            return -1\n",
    "        elif len(result) == 1:\n",
    "            return str(int(result[0])-1) + \" is the missing number\"\n",
    "        else:\n",
    "            return -1\n",
    "\n",
    "\n",
    "\n",
    "    # else:\n",
    "    #     print(\"+++++++\")\n",
    "    #     two_digit_num = int(str(numlist[i]) + str(numlist[i+2]))\n",
    "    #     print(two_digit_num)\n",
    "\n",
    "    \n",
    "\n",
    "    # result = [s[x:x+2] if x < len(s) - 1 else s[-1] + \"_\" for x in range(0, len(s), 2)]"
   ]
  },
  {
   "cell_type": "code",
   "execution_count": 559,
   "metadata": {
    "tags": []
   },
   "outputs": [
    {
     "output_type": "stream",
     "name": "stdout",
     "text": "checking for multi digit nums\n"
    },
    {
     "output_type": "execute_result",
     "data": {
      "text/plain": "-1"
     },
     "metadata": {},
     "execution_count": 559
    }
   ],
   "source": [
    "missing_num_sequence(\"124578\")"
   ]
  },
  {
   "cell_type": "code",
   "execution_count": 564,
   "metadata": {},
   "outputs": [],
   "source": [
    "def missing_num_sequence_loop(nums):\n",
    "    \"\"\"Takes a string of numbers in sequence, and returns the missing number\"\"\"\n",
    "    numlist = [int(n) for n in nums]\n",
    "\n",
    "    newlist = []\n",
    "\n",
    "    if (int(numlist[1]) == int(numlist[0]) + 1) and (int(numlist[2]) == int(numlist[1]) + 1):\n",
    "        print(\"single digits\")\n",
    "        newlist = [x for x in numlist]\n",
    "        print(newlist)\n",
    "        result = [n for i, n in enumerate(newlist) if n != newlist[i-1]+1 and i != 0]\n",
    "        if result == []:\n",
    "            return -1\n",
    "        elif len(result) == 1:\n",
    "            return str(int(result[0])-1) + \" is the missing number\"\n",
    "        else:\n",
    "            return -1\n",
    "\n",
    "    \n",
    "    else:\n",
    "        for d in range(1, 100):\n",
    "            print(\"checking for multi digit nums\")\n",
    "            tdn1 = int(str(numlist[0:d])))\n",
    "            tdn2 = int(str(numlist[d]) + str(numlist[d+d]))\n",
    "            print(tdn1)\n",
    "            print(tdn2)\n",
    "            if tdn2 == tdn1 + d:\n",
    "                print(\"yes it is multi digits\")\n",
    "                print(d)\n",
    "\n",
    "                i = 0\n",
    "                for num in numlist:\n",
    "                    try:\n",
    "                        this_num = int(str(numlist[i]) + str(numlist[i+1]))\n",
    "                        print(this_num)\n",
    "                        newlist.append(this_num)\n",
    "                        i += 2\n",
    "                    except:\n",
    "                        pass\n",
    "                print(newlist)\n",
    "            result = [n for i, n in enumerate(newlist) if n != newlist[i-1]+1 and i != 0]\n",
    "            if result == []:\n",
    "                return -1\n",
    "            elif len(result) == 1:\n",
    "                return str(int(result[0])-1) + \" is the missing number\"\n",
    "            else:\n",
    "                return -1"
   ]
  },
  {
   "cell_type": "code",
   "execution_count": 566,
   "metadata": {
    "tags": []
   },
   "outputs": [
    {
     "output_type": "stream",
     "name": "stdout",
     "text": "checking for multi digit nums\n21\n12\n"
    },
    {
     "output_type": "execute_result",
     "data": {
      "text/plain": "-1"
     },
     "metadata": {},
     "execution_count": 566
    }
   ],
   "source": [
    "missing_num_sequence_loop(\"21222324\")"
   ]
  },
  {
   "cell_type": "code",
   "execution_count": null,
   "metadata": {},
   "outputs": [],
   "source": []
  }
 ]
}