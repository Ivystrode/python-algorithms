{
 "metadata": {
  "language_info": {
   "codemirror_mode": {
    "name": "ipython",
    "version": 3
   },
   "file_extension": ".py",
   "mimetype": "text/x-python",
   "name": "python",
   "nbconvert_exporter": "python",
   "pygments_lexer": "ipython3",
   "version": "3.8.1-final"
  },
  "orig_nbformat": 2,
  "kernelspec": {
   "name": "python_defaultSpec_1597613011163",
   "display_name": "Python 3.8.1 32-bit"
  }
 },
 "nbformat": 4,
 "nbformat_minor": 2,
 "cells": [
  {
   "cell_type": "code",
   "execution_count": 3,
   "metadata": {},
   "outputs": [],
   "source": [
    "def array_diff(a, b):\n",
    "    \"\"\"Returns the letters that are in array a but not b\"\"\"\n",
    "    c = [n for n in a if n not in b]\n",
    "    return c"
   ]
  },
  {
   "cell_type": "code",
   "execution_count": 4,
   "metadata": {},
   "outputs": [
    {
     "output_type": "execute_result",
     "data": {
      "text/plain": "[2, 3]"
     },
     "metadata": {},
     "execution_count": 4
    }
   ],
   "source": [
    "array_diff([1,2,3],[1,4,5])\n"
   ]
  },
  {
   "cell_type": "code",
   "execution_count": 5,
   "metadata": {},
   "outputs": [],
   "source": [
    "letters = ['a','b','c','d']\n",
    "letters2 = ['c','d','e','f','g']\n"
   ]
  },
  {
   "cell_type": "code",
   "execution_count": 6,
   "metadata": {},
   "outputs": [
    {
     "output_type": "execute_result",
     "data": {
      "text/plain": "['a', 'b']"
     },
     "metadata": {},
     "execution_count": 6
    }
   ],
   "source": [
    "array_diff(letters, letters2)"
   ]
  },
  {
   "cell_type": "code",
   "execution_count": 8,
   "metadata": {},
   "outputs": [
    {
     "output_type": "execute_result",
     "data": {
      "text/plain": "[1, 3]"
     },
     "metadata": {},
     "execution_count": 8
    }
   ],
   "source": [
    "array_diff([1,2,2,2,2,3],[2])"
   ]
  },
  {
   "cell_type": "code",
   "execution_count": 9,
   "metadata": {},
   "outputs": [
    {
     "output_type": "execute_result",
     "data": {
      "text/plain": "[3, -11, 8, -4, -11]"
     },
     "metadata": {},
     "execution_count": 9
    }
   ],
   "source": [
    "array_diff([-1, 16, -18, 3, -11, -1, 8, -4, 2, 12, 2, -11, 5],[-18, 12, -1, -5, -15, 11, -12, 5, 16, 6, -8, -9, -8, -12, 2, 11])"
   ]
  },
  {
   "cell_type": "code",
   "execution_count": 25,
   "metadata": {},
   "outputs": [],
   "source": [
    "arr1 = [1,1,2,3,3,4,4,4,4,5,5,6,6]"
   ]
  },
  {
   "cell_type": "code",
   "execution_count": 27,
   "metadata": {},
   "outputs": [],
   "source": [
    "def find_it(seq):\n",
    "    \"\"\"Returns the number in an array that appears an odd number of times\"\"\"\n",
    "    count = 0\n",
    "    nums = {}\n",
    "    for number in seq:\n",
    "        nums[number] = 0\n",
    "\n",
    "    for number in seq:\n",
    "        if number in nums.keys():\n",
    "            nums[number] += 1\n",
    "    \n",
    "    for key, value in nums.items():\n",
    "        if value % 2 != 0:\n",
    "            result = str(key) + \": \" + str(value)\n",
    "            return result"
   ]
  },
  {
   "cell_type": "code",
   "execution_count": 28,
   "metadata": {},
   "outputs": [
    {
     "output_type": "execute_result",
     "data": {
      "text/plain": "'2: 1'"
     },
     "metadata": {},
     "execution_count": 28
    }
   ],
   "source": [
    "find_it(arr1)"
   ]
  },
  {
   "cell_type": "code",
   "execution_count": 32,
   "metadata": {},
   "outputs": [],
   "source": [
    "def find_it_lite(seq):\n",
    "    return [x for x in seq if seq.count(x) % 2 != 0]"
   ]
  },
  {
   "cell_type": "code",
   "execution_count": 33,
   "metadata": {},
   "outputs": [
    {
     "output_type": "execute_result",
     "data": {
      "text/plain": "[2]"
     },
     "metadata": {},
     "execution_count": 33
    }
   ],
   "source": [
    "find_it_lite(arr1)"
   ]
  },
  {
   "cell_type": "code",
   "execution_count": 34,
   "metadata": {},
   "outputs": [],
   "source": [
    "def find_outlier(integers):\n",
    "    \"\"\"The array contains either all events and one odd, or all odds and one even. Find the 'outlier' and return it\"\"\"\n",
    "    ocount = 0\n",
    "    ecount = 0\n",
    "    evens = False\n",
    "\n",
    "    for x in integers:\n",
    "        if x % 2 == 0:\n",
    "            ecount += 1\n",
    "        else:\n",
    "            ocount += 1\n",
    "    if ocount < ecount:\n",
    "        evens = True\n",
    "\n",
    "    if evens:\n",
    "        return [num for num in integers if num % 2 != 0][0]\n",
    "    else:\n",
    "        return [num for num in integers if num % 2 == 0][0]\n"
   ]
  },
  {
   "cell_type": "code",
   "execution_count": null,
   "metadata": {},
   "outputs": [],
   "source": [
    "def find_outlier_lite(integers):\n",
    "    odds = [x for x in integers if x % 2 != 0]\n",
    "    events = [x for x in integers if x % 2 == 0]\n",
    "    return evens[0] if len(evens) < len(odds) else odds[0]"
   ]
  },
  {
   "cell_type": "code",
   "execution_count": 88,
   "metadata": {},
   "outputs": [],
   "source": [
    "def high_and_low(numbers):\n",
    "    \"\"\"From a string of space separated numbers, return the highest\"\"\"\n",
    "    numlist = [int(num) for num in numbers.split(\" \")]\n",
    "    highest = numlist[0]\n",
    "    lowest = numlist[0]\n",
    "\n",
    "    for n in numlist:\n",
    "        if n > highest:\n",
    "            highest = n\n",
    "        if n < lowest:\n",
    "            lowest = n\n",
    "    return str(highest) + \" \" + str(lowest)"
   ]
  },
  {
   "cell_type": "code",
   "execution_count": 89,
   "metadata": {
    "tags": []
   },
   "outputs": [
    {
     "output_type": "execute_result",
     "data": {
      "text/plain": "'907 -214'"
     },
     "metadata": {},
     "execution_count": 89
    }
   ],
   "source": [
    "high_and_low(\"123 907 104 454 10 4 6 -214\")"
   ]
  },
  {
   "cell_type": "code",
   "execution_count": 94,
   "metadata": {},
   "outputs": [],
   "source": [
    "def high_and_low_lite(numbers):\n",
    "    numlist = [int(num) for num in numbers.split(' ')]\n",
    "    return f\"{max(numlist)} {min(numlist)}\""
   ]
  },
  {
   "cell_type": "code",
   "execution_count": 95,
   "metadata": {},
   "outputs": [
    {
     "output_type": "execute_result",
     "data": {
      "text/plain": "'1087 -453'"
     },
     "metadata": {},
     "execution_count": 95
    }
   ],
   "source": [
    "high_and_low_lite(\"405 444 9 1087 274 -453 1\")"
   ]
  },
  {
   "cell_type": "code",
   "execution_count": 157,
   "metadata": {},
   "outputs": [],
   "source": [
    "def pair_split(s):\n",
    "    \"\"\"splits the string into pairs of two characters. If the string contains an odd number of characters then it should replace the missing second character of the final pair with an                 underscore\"\"\"\n",
    "\n",
    "    result = [s[x:x+2] if x < len(s) - 1 else s[-1] + \"_\" for x in range(0, len(s), 2)]\n",
    "    return result\n"
   ]
  },
  {
   "cell_type": "code",
   "execution_count": 158,
   "metadata": {
    "tags": []
   },
   "outputs": [
    {
     "output_type": "execute_result",
     "data": {
      "text/plain": "['ab', 'df', 'eg', 'h_']"
     },
     "metadata": {},
     "execution_count": 158
    }
   ],
   "source": [
    "pair_split(\"abdfegh\")"
   ]
  },
  {
   "cell_type": "code",
   "execution_count": 182,
   "metadata": {},
   "outputs": [],
   "source": [
    "def validBraces(string):\n",
    "    \"\"\"Determines if all parantheses have been correctly closed\"\"\"\n",
    "    parents = {'(': 'open'}\n",
    "\n",
    "\n",
    "    print(open_states)\n",
    "\n",
    "    for paren, state in open_states.items():\n",
    "        if state == \"open\":\n",
    "            return False\n",
    "\n",
    "    return True\n"
   ]
  },
  {
   "cell_type": "code",
   "execution_count": 183,
   "metadata": {
    "tags": []
   },
   "outputs": [
    {
     "output_type": "stream",
     "name": "stdout",
     "text": "paren open: (\nparen open: {\nparen open: }\nparen open: )\n{('(', ')'): 'open', ('{', '}'): 'open'}\n"
    },
    {
     "output_type": "execute_result",
     "data": {
      "text/plain": "False"
     },
     "metadata": {},
     "execution_count": 183
    }
   ],
   "source": [
    "validBraces(\"({})\")"
   ]
  },
  {
   "cell_type": "code",
   "execution_count": 76,
   "metadata": {},
   "outputs": [],
   "source": [
    "import string\n",
    "def alphabet_positions(text):\n",
    "    \"\"\"This function replaces every letter in a string with its position in the alphabet\"\"\"\n",
    "    # create a dictionary of letter:position_number pairs\n",
    "    # we have to reverse the enumeration hence the v:k for k, v\n",
    "    letter_positions = {v:k for k, v in enumerate(string.ascii_lowercase, 1)}\n",
    "\n",
    "    string_code = \"\"\n",
    "\n",
    "    # Normal for-loop method\n",
    "    # for letter in s:\n",
    "    #     letter = letter.lower()\n",
    "    #     if letter in letter_positions.keys():\n",
    "    #         string_code += str(letter_positions[letter]) + \" \"\n",
    "    # string_code = string_code[:-1] # cuts off the space at the end\n",
    "\n",
    "    # list comprehension method\n",
    "    string_code = [str(letter_positions[letter.lower()]) for letter in text if letter.lower() in letter_positions.keys()]\n",
    "\n",
    "    return \" \".join(string_code)\n",
    "\n"
   ]
  },
  {
   "cell_type": "code",
   "execution_count": 77,
   "metadata": {
    "tags": []
   },
   "outputs": [
    {
     "output_type": "execute_result",
     "data": {
      "text/plain": "'20 8 5 19 21 14 19 5 20 19 5 20 19 1 20 20 23 5 12 22 5 15 3 12 15 3 11'"
     },
     "metadata": {},
     "execution_count": 77
    }
   ],
   "source": [
    "alphabet_positions(\"The sunset sets at twelve o' clock.\")"
   ]
  },
  {
   "cell_type": "code",
   "execution_count": 80,
   "metadata": {},
   "outputs": [],
   "source": [
    "def alphabet_positions_lite(text):\n",
    "    return \" \".join(str(ord(letter)-96) for letter in text.lower() if letter.isalpha())"
   ]
  },
  {
   "cell_type": "code",
   "execution_count": 82,
   "metadata": {},
   "outputs": [
    {
     "output_type": "execute_result",
     "data": {
      "text/plain": "'9 23 5 14 20 8 15 13 5 20 15 7 5 20 13 25 14 15 23 1 25'"
     },
     "metadata": {},
     "execution_count": 82
    }
   ],
   "source": [
    "alphabet_positions_lite(\"I went home to get my ... no way\")"
   ]
  },
  {
   "cell_type": "code",
   "execution_count": null,
   "metadata": {},
   "outputs": [],
   "source": []
  }
 ]
}